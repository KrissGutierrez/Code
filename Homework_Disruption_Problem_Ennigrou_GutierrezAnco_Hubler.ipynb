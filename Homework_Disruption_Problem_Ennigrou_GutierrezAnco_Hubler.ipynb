{
 "cells": [
  {
   "cell_type": "markdown",
   "id": "e9cadea7",
   "metadata": {},
   "source": [
    "# <div align=\"center\">  MACS207b - Disruption problem </div>\n",
    "\n",
    "### Homework of Inès ENNIGROU - Kriss GUTIERREZ ANCO - Marion HUBLER"
   ]
  },
  {
   "cell_type": "markdown",
   "id": "da7e6ef3",
   "metadata": {},
   "source": [
    "The aim of this labwork is to study the behaviour of a point process $N$ whose distribution is given by the following rule : initially events occur according to a Poisson process of intensity $\\lambda_0$ until time $\\tau$ when it then switch to another Poisson process but with intensity $\\lambda_1$\n",
    "\n",
    "Our objective is to approximate $\\tau$, given the observation of one single trajectory $N$, under the assumption that $\\tau$ follows an exponential distribution of parameter $\\sigma$\n",
    "\n",
    "To do so, we will try and approximate the function $Z(t) = \\mathbb{1}_{(\\tau < t)}$ by the following estimator $\\hat{Z}(t) = \\mathbb{E}[Z(t) | \\mathcal{F}_t^N] = \\mathbb{P}(\\tau < t| \\mathcal{F}_t^N)$ which we will use under the expression : \n",
    "\n",
    "$$ \\hat{Z}(t) =\\int_{0}^{t} h(s)(1 - \\widehat{Z}(s)) \\, ds + \\int_{0}^{t} \\frac{(\\lambda_1 - \\lambda_0) \\widehat{Z}(s^-)(1 - \\widehat{Z}(s^-))} {\\hat{\\lambda}(s)} (dN(s) - \\hat{\\lambda}(s)ds) $$"
   ]
  },
  {
   "cell_type": "markdown",
   "id": "eab5d628",
   "metadata": {},
   "source": [
    "---"
   ]
  },
  {
   "cell_type": "markdown",
   "id": "57151c3d",
   "metadata": {},
   "source": [
    "# Question 1"
   ]
  },
  {
   "cell_type": "markdown",
   "id": "c51bf4de",
   "metadata": {},
   "source": [
    "### Analysis of the formula :\n",
    "\n",
    "By analyzing the given formula, we can see that the first part : $\\int_{0}^{t} h(s)(1 - \\widehat{Z}(s)) \\, ds$ represents the continuous component of $\\hat{Z}$ while the second part: $\\int_{0}^{t} \\frac{(\\lambda_1 - \\lambda_0) \\widehat{Z}(s^-)(1 - \\widehat{Z}(s^-))} {\\hat{\\lambda}(s)} (dN(s) - \\hat{\\lambda}(s) \\, ds)$ represent the discontinuous jumps that $\\hat{Z}$ experiences when the jumps of $N$ occur since  $dN(s)-\\hat{\\lambda}(s) \\, ds$ represents the difference between what is observed and the expected value (based on the intensity $\\lambda$). \n",
    "\n",
    "### Rewriting the formula :\n",
    "\n",
    "- Firstly, since $\\hat{Z}$ is left-continuous ($Z(t) = \\mathbb{1}_{(\\tau<t)}$) we can say that : $\\hat{Z}(s^-) = \\hat{Z}(s) \\Rightarrow \\Delta Z(s) = 0 $ and rewrite : \n",
    "$$\\int_{0}^{t} (\\lambda_1 - \\lambda_0)\\hat{Z}(s^-)(1-\\hat{Z}(s^-)) \\, ds = \\int_{0}^{t} (\\lambda_1 - \\lambda_0)\\hat{Z}(s)(1-\\hat{Z}(s)) \\, ds $$\n",
    "\n",
    "\n",
    "- Secondly, we have by definition that : $$ \\int_{0}^{t} \\frac{(\\lambda_1 - \\lambda_0)\\hat{Z}(s^-)(1-\\hat{Z}(s^-))}{\\lambda_0 - (\\lambda_1 - \\lambda_0)\\hat{Z}(s^-)}dN(s)  = \\sum_{T_k \\le t}^{} \\frac{(\\lambda_1 - \\lambda_0)\\hat{Z}(T_k^-)(1-\\hat{Z}(T_k^-))}{\\lambda_0 - (\\lambda_1 - \\lambda_0)\\hat{Z}(T_k^-)} $$\n",
    "\n",
    "### Final formula : \n",
    "\n",
    "$$\\hat{Z}(t) = \\int_{0}^{t} (h(s)-(\\lambda_1 - \\lambda_0)\\hat{Z}(s)) (1 - \\hat{Z}(s)) \\, ds +  \\sum_{T_k \\le t}^{} \\frac{(\\lambda_1 - \\lambda_0)\\hat{Z}(T_k^-)(1-\\hat{Z}(T_k^-))}{\\lambda_0 - (\\lambda_1 - \\lambda_0)\\hat{Z}(T_k^-)} $$\n",
    "\n",
    "### Dynamics between the jump $\\hat{Z}$ : \n",
    "\n",
    "We have that between the jumps, the dynamic of $\\hat{Z}$ is given by : $\\hat{Z}(t) = \\hat{Z}(T_{n-1}) + \\int_{T_{n-1}}^{t} (h(s)- (\\lambda_1-\\lambda_0)\\hat{Z}(s)) (1 - \\hat{Z}(s)) \\, ds$ because the sum is equal to 0 since there are no new jumps between times $T_{n-1}$ and $t$. \n",
    "\n",
    "So we have that between jumps $\\hat{Z}$ is continuous and differentiable, with differential expression : $ \\frac {d \\hat{Z}(t)}{dt} = (h(t) - (\\lambda_1 - \\lambda_0)\\hat{Z}(t)) (1-\\hat{Z}(t))$ \n",
    "\n",
    "We can see that we have a differential equation of first order (non linear because $\\hat{Z}(t)^2$ appears) with respect to $\\hat{Z}$. We expect the solution to behave like some kind of exponential.\n",
    "\n",
    "### Size of the jumps of $\\hat{Z}$ : \n",
    "\n",
    "By looking at the formula, we obtain that the size of the jumps between $T_n^-$ and $T_n$ is given by: $\\frac{(\\lambda_1 - \\lambda_0) \\hat{Z}(s-)(1 - \\hat{Z}(s-))} {\\hat{\\lambda}(s)}$"
   ]
  },
  {
   "cell_type": "markdown",
   "id": "e4a41558",
   "metadata": {},
   "source": [
    "---"
   ]
  },
  {
   "cell_type": "markdown",
   "id": "a4976e7f",
   "metadata": {},
   "source": [
    "# Question 2 :\n",
    "\n",
    "### Sample-path of N"
   ]
  },
  {
   "cell_type": "markdown",
   "id": "590f043a",
   "metadata": {},
   "source": [
    "Firstly, we will simulate one sample path $N$. \n",
    "\n",
    "To do so, we need to first, simulate  $\\tau \\sim \\mathcal{Exp}(\\sigma)$, and then to simulate the inter-arrival times following an exponential distribution of parameter $\\lambda_0$. Once the sum of these arrival times exceeds $\\tau$ , we switch to the distribution whose intensity is $\\lambda_1$"
   ]
  },
  {
   "cell_type": "code",
   "execution_count": 589,
   "id": "a4a40708",
   "metadata": {},
   "outputs": [],
   "source": [
    "import numpy as np\n",
    "import matplotlib.pyplot as plt"
   ]
  },
  {
   "cell_type": "markdown",
   "id": "d9c70eb7",
   "metadata": {},
   "source": [
    "Since every distribution we will sample is an exponential one, we start by writing a function that samples points following this distribution, using a simple inverse probability sampling method, since de CDF function is known and easily invertible"
   ]
  },
  {
   "cell_type": "code",
   "execution_count": 14,
   "id": "861c6803",
   "metadata": {},
   "outputs": [],
   "source": [
    "def Exponential(sigma):\n",
    "    \"\"\"Simulate an exponential distribution\n",
    "       of parameter sigma\n",
    "    \"\"\"\n",
    "    \n",
    "    F_inv = lambda u : - np.log(1-u) / sigma\n",
    "    u = np.random.random_sample()\n",
    "    x = F_inv(u)\n",
    "    return x"
   ]
  },
  {
   "cell_type": "markdown",
   "id": "a23c8ef3",
   "metadata": {},
   "source": [
    "Now, let's define a function that simulates the trajectory "
   ]
  },
  {
   "cell_type": "code",
   "execution_count": 93,
   "id": "4b373945",
   "metadata": {},
   "outputs": [],
   "source": [
    "def trajectory_N(lambda0, lambda1, sigma, T):\n",
    "    \"\"\"Simulate the trajectory of N\n",
    "\n",
    "    Parameters\n",
    "    ----------\n",
    "    lambda0 : float\n",
    "              The intensity before tau\n",
    "    lambda1 : float\n",
    "              The intensity after tau\n",
    "    sigma   : float\n",
    "              The parameter of the distribution of tau\n",
    "    T       : float\n",
    "              The size of the interval \n",
    "\n",
    "    Returns\n",
    "    -------\n",
    "    tau : float\n",
    "          The value of tau\n",
    "    N_0 : list\n",
    "          The arrival times before tau\n",
    "    N_1 : list\n",
    "          The arrival times after tau\n",
    "          (empty if tau > T)\n",
    "    N   : list\n",
    "          Complete sample paths\n",
    "    \n",
    "    \"\"\"\n",
    "    \n",
    "    # Initialization\n",
    "    t, N0, N1 = 0, [0], []\n",
    "    \n",
    "    # Generate tau using its distribution parameter sigma\n",
    "    tau = Exponential(sigma)\n",
    "    \n",
    "    # Simulate the first part of the trajectory N0\n",
    "    while t<= min(tau,T) :\n",
    "        xi = Exponential(lambda0)\n",
    "        t = t + xi\n",
    "        N0.append(t)\n",
    "        \n",
    "    # Simulate the second part of the trajectory N1\n",
    "    while t <= T :\n",
    "        xi = Exponential(lambda1)\n",
    "        t = t + xi\n",
    "        N1.append(t)\n",
    "    \n",
    "    # Concatenate the paths \n",
    "    N = N0 + N1\n",
    "    \n",
    "    return tau, N0, N1, N"
   ]
  },
  {
   "cell_type": "markdown",
   "id": "197c925a",
   "metadata": {},
   "source": [
    "Note that for our observation to be usable, we will need to choose \"good\" values of $T,\\lambda_0, \\lambda_1$ and $\\sigma$. Fistly, we want for $\\tau$ to be less than $T$ on most instances of the sample path, to do so we have to fix a $T$ and select $\\sigma$ accordingly. Knowing that $\\tau \\sim \\mathcal{E}xp(\\sigma)$, it has expected value $\\frac{1}{\\sigma}$ which means choosing for instance $\\frac{1}{\\sigma} = \\frac{T}{2}$ ensures that, on average, half the sample path will follow the distribution of intensity $\\lambda_0$ and the other half $\\lambda_1$. Finally, we must choose $\\lambda_0$ and $\\lambda_1$ itensities high enough for the jumps to happen sufficiently often to have a good path, but not to small so that we can still \"see\" the jumps."
   ]
  },
  {
   "cell_type": "code",
   "execution_count": 587,
   "id": "d40f14b0",
   "metadata": {},
   "outputs": [],
   "source": [
    "lambda0 = 1\n",
    "lambda1 = 5\n",
    "T = 20\n",
    "sigma = 2/T"
   ]
  },
  {
   "cell_type": "markdown",
   "id": "d5ef7417",
   "metadata": {},
   "source": [
    "Now let's plot one instance"
   ]
  },
  {
   "cell_type": "code",
   "execution_count": 588,
   "id": "abf79f0b",
   "metadata": {},
   "outputs": [
    {
     "data": {
      "image/png": "[encoded data removed]",
      "text/plain": [
       "<Figure size 1080x504 with 1 Axes>"
      ]
     },
     "metadata": {
      "needs_background": "light"
     },
     "output_type": "display_data"
    }
   ],
   "source": [
    "np.random.seed(8092005)\n",
    "tau, N0, N1, N = trajectory_N(lambda0, lambda1, sigma, T)\n",
    "\n",
    "pointprocess = [0] + list(range(len(N)-1))\n",
    "\n",
    "plt.figure(figsize = (15,7))\n",
    "plt.step(N, pointprocess, label = 'N(t)')\n",
    "plt.title(\"Trajectory of the point process N(t)\")\n",
    "if tau <= T :\n",
    "    plt.axvline(x=tau, color = 'orange', label = r'$\\tau \\approx $' + str(tau)[:5])\n",
    "plt.xlabel('t')\n",
    "plt.legend()\n",
    "plt.grid()\n",
    "plt.show()"
   ]
  },
  {
   "cell_type": "markdown",
   "id": "a05bfccb",
   "metadata": {},
   "source": [
    "### Trajectory of $\\hat{Z}$"
   ]
  },
  {
   "cell_type": "markdown",
   "id": "ae83ca1f",
   "metadata": {},
   "source": [
    "We will re-use the previously stated formulas in Question 1: \n",
    "\n",
    "- Between the jumps, the dynamic is given by :\n",
    "$$\\\\ \\frac {d \\widehat{Z}(t)}{dt} = (h(t) - (\\lambda_1 - \\lambda_0)\\widehat{Z}(t)) (1-\\widehat{Z}(t)) $$\n",
    "With $h(t) = \\sigma . \\mathbb{1}_{t \\geq 0}$\n",
    "\n",
    "\n",
    "- While the jumps' values are given by : \n",
    "$$ \\hat{Z}(T_n) = \\hat{Z}(T_n^{-}) + \\frac{(\\lambda_1 - \\lambda_0) \\widehat{Z}(T_n^{—})(1 - \\widehat{Z}(T_n^{—}))} {\\lambda_0 + (\\lambda_1 - \\lambda_0)\\widehat{Z}(T_n^{-})}$$"
   ]
  },
  {
   "cell_type": "code",
   "execution_count": 436,
   "id": "6bda95d8",
   "metadata": {},
   "outputs": [],
   "source": [
    "def Euler(f, y0, t):\n",
    "    \"\"\"Implements the Euler's algorithm method for ODE resolution\n",
    "    \n",
    "    Parameters\n",
    "    ----------\n",
    "    f  : function\n",
    "         The function such that : y' = f(y,t)\n",
    "    y0 : float\n",
    "         The initial condition\n",
    "    t  : list\n",
    "         The time intervall on which we resolve\n",
    "    \"\"\"\n",
    "    \n",
    "    n = len(t)\n",
    "    y = [y0]\n",
    "    for i in range(n - 1):\n",
    "        value = y[i] + (t[i+1] - t[i]) * f(y[i], t[i])\n",
    "        y.append(value)\n",
    "    return y\n",
    "\n",
    "\n",
    "def trajectory_Z_hat(lambda0, lambda1, sigma, T, N, nb_points = 100):\n",
    "    \"\"\" Computes a numerical approximation of Z_hat(t)\n",
    "    using the formulas above \n",
    "    \n",
    "    Parameters\n",
    "    ----------\n",
    "    lambda0 : float\n",
    "              The intensity before tau, ASSUMED to be known\n",
    "    lambda1 : float\n",
    "              The intensity after tau, ASSUMED to be known\n",
    "    sigma   : float\n",
    "              The parameter of the distribution of tau, ASSUMED to be known since we need must use h\n",
    "    T       : float\n",
    "              The size of the interval, ASSUMED to be known since we observe N\n",
    "    N       : list\n",
    "              The observed time jumps of the point process \n",
    "              \n",
    "    \"\"\"\n",
    "    \n",
    "    Z_hat = [0] # by definiton of Z, otherwise it would mean tau <= 0\n",
    "    t = []\n",
    "    f = lambda y, t : (sigma - (lambda1 - lambda0) * y) * (1-y)\n",
    "    \n",
    "    \n",
    "    for k in range(len(N)-1):\n",
    "        sample_t = np.linspace(N[k], N[k+1], nb_points)[:-1]\n",
    "        t += list(sample_t)\n",
    "\n",
    "        Z_euler = Euler(f, Z_hat[-1], sample_t)\n",
    "        Z_hat += list(Z_euler)\n",
    "        \n",
    "        Z_jump = Z_hat[-1] + ((lambda1 - lambda0)*Z_hat[-1]*(1-Z_hat[-1])) / (lambda0 + (lambda1 - lambda0)*Z_hat[-1])\n",
    "        Z_hat.append(Z_jump)\n",
    "        \n",
    "        t.append(N[k+1])\n",
    "        \n",
    "    return t, Z_hat[1:]"
   ]
  },
  {
   "cell_type": "markdown",
   "id": "11ef77e0",
   "metadata": {},
   "source": [
    "Now let's plot !"
   ]
  },
  {
   "cell_type": "code",
   "execution_count": 457,
   "id": "11ab33b8",
   "metadata": {},
   "outputs": [
    {
     "data": {
      "image/png": "[encoded data removed]",
      "text/plain": [
       "<Figure size 1080x360 with 1 Axes>"
      ]
     },
     "metadata": {
      "needs_background": "light"
     },
     "output_type": "display_data"
    }
   ],
   "source": [
    "t, Z_hat = trajectory_Z_hat(lambda0, lambda1, sigma, T, N)\n",
    "\n",
    "plt.figure(figsize = (15, 5))\n",
    "plt.plot(t, Z_hat, label = r\"$\\hat{Z}(t)\")\n",
    "if tau <= T :\n",
    "    plt.axvline(x=tau, color = 'orange', label = r'$\\tau \\approx $' + str(tau)[:5])\n",
    "plt.xlabel('t')\n",
    "plt.legend()\n",
    "plt.grid()\n",
    "plt.show()"
   ]
  },
  {
   "cell_type": "markdown",
   "id": "7f52420b",
   "metadata": {},
   "source": [
    "### Comments :\n",
    "As expected, we can see that the curve is a succession of little portions of exponentials followed by jumps (when $N$ jumps) and so on ... \n",
    "Also, we can notice on this instance (and on all the other instances we have tried, with different parameters) that $\\tau$ has the tendency to occur slightly before the big jump. \n",
    "Therefore, a good approximation of $\\tau$, has to take this fact into account."
   ]
  },
  {
   "cell_type": "markdown",
   "id": "76a3e868",
   "metadata": {},
   "source": [
    "---"
   ]
  },
  {
   "cell_type": "markdown",
   "id": "7b96fdec",
   "metadata": {},
   "source": [
    "# Question 3 :"
   ]
  },
  {
   "cell_type": "markdown",
   "id": "00e2f277",
   "metadata": {},
   "source": [
    "### Ideas\n",
    "\n",
    "Now let's assume, $\\hat{Z}(t)$ is the true observation, that is  $\\hat{Z}(t) = \\mathbb{P}(\\tau < t | \\mathcal{F}_t^N)$\n",
    "In order to approximate $\\tau$ using this curve, several methods and their respective criterions can be used :\n",
    "- 1. By finding the first time at which $\\hat{Z}(t)$ crosses a certain, chosen threshold $\\eta$ : this threshold should be chosen according to the accuracy we want for $\\tau$ that is : choose it such that we have : $\\mathbb{P}(\\tau < t | \\mathcal{F}_t^N) \\ge \\eta $\n",
    "- 2. Another idea, is to do the same thing, but starting from parsing through the t-axis from right to left, in order to avoid detecting the sometimes important yet not meaningful variations before $\\tau$\n",
    "- 3. Also, we could only look at the jumps of $\\hat{Z}(t)$ (which are those of $N$) and estimate $\\tau$ as the argmax $T^-$ of these jumps\n",
    "- 4. Finally, we could compute the approximated derivative of $\\hat{Z}(t)$ (since it's not  differentiable) and then choose $\\tau$ as the argmax of this function. \n",
    "\n",
    "To go further, it could be argued that filtering the high frequencies of the curve to smoothen the curve could firstly allow for methods 1. and 2. to output the same value, but also to allow for the derivative method 4. to be better, because the curve would then be differentiable.\n",
    "\n",
    "### Implementation\n",
    "\n",
    "#### Let's start with method 1./2."
   ]
  },
  {
   "cell_type": "code",
   "execution_count": 490,
   "id": "53c9b6db",
   "metadata": {},
   "outputs": [
    {
     "name": "stdout",
     "output_type": "stream",
     "text": [
      "Method 1 with eta = 0.5 :  9.03352845562289\n",
      "Method 2 with eta = 0.5 :  9.161809832774146\n"
     ]
    }
   ],
   "source": [
    "def Method_1_2(Z_hat, t, eta = 0.5):\n",
    "    n = len(t)\n",
    "    tau = 0\n",
    "    for i in range(n-1):\n",
    "        if Z_hat[i] <= eta and Z_hat[i+1] >= eta:\n",
    "            return t[i]\n",
    "        \n",
    "tau1, tau2 = Method_1_2(Z_hat, t, 0.5), Method_1_2(Z_hat[::-1], t[::-1], 0.5)\n",
    "print(\"Method 1 with eta = 0.5 : \", tau1)\n",
    "print(\"Method 2 with eta = 0.5 : \", tau2)"
   ]
  },
  {
   "cell_type": "markdown",
   "id": "3d783174",
   "metadata": {},
   "source": [
    "We can see that the obtained values are close to the one expected of $\\tau$. We can say that the threshold chosen is rather arbitrary and other thresholds would give us different values."
   ]
  },
  {
   "cell_type": "code",
   "execution_count": 459,
   "id": "7ce3e2f6",
   "metadata": {},
   "outputs": [
    {
     "name": "stdout",
     "output_type": "stream",
     "text": [
      "Method 1 with eta = 0.3: 3.36\n",
      "Method 1 with eta = 0.5: 9.03\n",
      "Method 1 with eta = 0.9: 9.30\n"
     ]
    }
   ],
   "source": [
    "print('Method 1 with eta = 0.3 :', str(Method_1_2(Z_hat, t, 0.3))[:4])\n",
    "print('Method 1 with eta = 0.5 :', str(Method_1_2(Z_hat, t, 0.5))[:4])\n",
    "print('Method 1 with eta = 0.9 :', str(Method_1_2(Z_hat, t, 0.9))[:4])"
   ]
  },
  {
   "cell_type": "markdown",
   "id": "8d9ed513",
   "metadata": {},
   "source": [
    "#### Now let's try method 4."
   ]
  },
  {
   "cell_type": "code",
   "execution_count": 513,
   "id": "4ee9c455",
   "metadata": {},
   "outputs": [
    {
     "name": "stdout",
     "output_type": "stream",
     "text": [
      "Method 4 :  3.3605792976887554\n"
     ]
    },
    {
     "data": {
      "image/png": "[encoded data removed]",
      "text/plain": [
       "<Figure size 1080x504 with 1 Axes>"
      ]
     },
     "metadata": {
      "needs_background": "light"
     },
     "output_type": "display_data"
    }
   ],
   "source": [
    "def Method_4(Z_hat, t):\n",
    "    n = len(t)\n",
    "    retour = []\n",
    "    maxi, argmaxi = 0, 0\n",
    "    for i in range(1,n-1):\n",
    "        value = round((Z_hat[i+1]-Z_hat[i-1])/(t[i+1]-t[i-1]), 2) \n",
    "        retour.append(value)\n",
    "    for i in range(len(retour)):\n",
    "        if retour[i] > maxi :\n",
    "            maxi = retour[i]\n",
    "            argmaxi = times[i]\n",
    "    return argmaxi, retour, t[1:-1]\n",
    "\n",
    "tau4, retour, times = Method_4(Z_hat, t)\n",
    "print(\"Method 4 : \", tau4)\n",
    "\n",
    "plt.figure(figsize = (15,7))\n",
    "plt.plot(times, retour, label = r'Empirical derivative of $\\hat{Z}(t)$')\n",
    "plt.axvline(x=tau, color = 'orange', label = r'Real $\\tau \\approx $' + str(tau)[:5])\n",
    "plt.axvline(x=tau4, color = 'red', label = r'Method 4. $\\tau \\approx $' + str(tau4)[:5], ls = ':')\n",
    "plt.xlabel('t')\n",
    "plt.legend()\n",
    "plt.title(r'Empirical derivative of $\\hat{Z}(t)$')\n",
    "plt.grid()\n",
    "plt.show()"
   ]
  },
  {
   "cell_type": "code",
   "execution_count": 590,
   "id": "33ec21aa",
   "metadata": {},
   "outputs": [
    {
     "data": {
      "image/png": "[encoded data removed]",
      "text/plain": [
       "<Figure size 1080x360 with 1 Axes>"
      ]
     },
     "metadata": {
      "needs_background": "light"
     },
     "output_type": "display_data"
    }
   ],
   "source": [
    "## Plotting all different approximations\n",
    "\n",
    "plt.figure(figsize = (15, 5))\n",
    "plt.plot(t, Z_hat, label = r\"$\\hat{Z}(t)$\")\n",
    "if tau <= T :\n",
    "    plt.axvline(x=tau, color = 'orange', label = r'$\\tau \\approx $' + str(tau)[:5])\n",
    "plt.axvline(x=tau1, color = 'purple', label = r'Method 1. $\\tau \\approx $' + str(tau1)[:5], ls = '--')\n",
    "plt.axvline(x=tau2, color = 'green', label = r'Method 2. $\\tau \\approx $' + str(tau2)[:5], ls = '--')\n",
    "plt.axvline(x=tau4, color = 'red', label = r'Method 4. $\\tau \\approx $' + str(tau4)[:5], ls = '--')\n",
    "plt.xlabel('t')\n",
    "plt.legend()\n",
    "plt.grid()\n",
    "plt.show()"
   ]
  },
  {
   "cell_type": "markdown",
   "id": "c356e4ea",
   "metadata": {},
   "source": [
    "### Comments :\n",
    "- Methods 1 and 2 tend to have close results between each other, however, the result is still far from the actual $\\tau$ for the reasons mentionned before : $\\tau$ tends to occur slightly before the jump.\n",
    "- On the other hand, Method 4 detects the jump whose slope is the steepest, and so, not necessarily the moment of the jump. \n",
    "To avoid this, it could be interesting to smooth these \"meaningless\" harsh variations out , by filtering the curve's high frequencies, and then applying any other previously mentionned. "
   ]
  },
  {
   "cell_type": "markdown",
   "id": "2024a675",
   "metadata": {},
   "source": [
    "---"
   ]
  },
  {
   "cell_type": "markdown",
   "id": "682ac6b8",
   "metadata": {},
   "source": [
    "# Question  4"
   ]
  },
  {
   "cell_type": "markdown",
   "id": "20ae1d44",
   "metadata": {},
   "source": [
    "Data analysis techniques could be used in the following manner : \n",
    "\n",
    "We will see our testing samples, as ```len(N)-1``` samples, which will be the inter-arrival times of $N$. And we will try and cluster these samples in two classes : those who were generated following an exponential distribution $\\lambda_0$ and those following an exponential distribution $\\lambda_1$. \n",
    "\n",
    "\n",
    "We can either choose an unsupervised or a supervised learning algorithm, that will create the clusters.\n",
    "Most algorithms that we have already studied in Télécom are supervised, so we chose such an algorithm. \n",
    "We settled on an easy one, which is the  **Bayesian decision algorithm**, which, among other things, does not require the \"Poisson\" hypothesis \n",
    "\n",
    "Once the algorithm has clustered the data, we use the number of elements  clustered in the $\\lambda_0$ cluster as the number of jumps before $\\tau$, and then we will know that :\n",
    "\n",
    "$$ \\tau \\in [T_{|cluster 0| - 1}; T_{|cluster 0|}] $$"
   ]
  },
  {
   "cell_type": "code",
   "execution_count": 581,
   "id": "76124727",
   "metadata": {},
   "outputs": [],
   "source": [
    "## Create a training set\n",
    "\n",
    "def density(x, m, v):\n",
    "    return 1/(2 * np.pi * v)**(1/2) * np.exp(-(x-m)**2/(2*v))\n",
    "\n",
    "def Bayesian_decision(Inter_arrival_times, Set0, Set1):\n",
    "    \n",
    "    mean0 = np.mean(Set0)\n",
    "    mean1 = np.mean(Set1)\n",
    "\n",
    "    var0 = np.var(Set0)\n",
    "    var1 = np.var(Set1)\n",
    "    \n",
    "    L0 = []\n",
    "    L1 = []\n",
    "    \n",
    "    for xi in Inter_arrival_times :\n",
    "        if density(xi, mean0, var0)> density(xi, mean1, var1) : \n",
    "            L0.append(xi)\n",
    "        else :\n",
    "            L1.append(xi)\n",
    "    \n",
    "    return L0, L1"
   ]
  },
  {
   "cell_type": "markdown",
   "id": "45e7df42",
   "metadata": {},
   "source": [
    "Now we plot"
   ]
  },
  {
   "cell_type": "code",
   "execution_count": 584,
   "id": "befdf4de",
   "metadata": {},
   "outputs": [
    {
     "data": {
      "image/png": "[encoded data removed]",
      "text/plain": [
       "<Figure size 1080x504 with 1 Axes>"
      ]
     },
     "metadata": {
      "needs_background": "light"
     },
     "output_type": "display_data"
    }
   ],
   "source": [
    "np.random.seed()\n",
    "\n",
    "# Create the training sets\n",
    "Training_Set0 = [Exponential(lambda0) for _ in range(1000)]\n",
    "Training_Set1 = [Exponential(lambda1) for _ in range(1000)]\n",
    "\n",
    "# Create the testing sets\n",
    "Inter_arrival_times = [N[i+1]-N[i] for i in range(len(N) - 1)]\n",
    "\n",
    "# Output the clustered data\n",
    "L0, L1 = Bayesian_decision(Inter_arrival_times, Training_Set0, Training_Set1)\n",
    "start, end = N[len(L0)-1], N[len(L0)]\n",
    "\n",
    "# Plot the results\n",
    "plt.figure(figsize = (15,7))\n",
    "plt.step(N, pointprocess, label = 'N(t)')\n",
    "plt.title(\"Trajectory of the point process N(t)\")\n",
    "if tau <= T :\n",
    "    plt.axvline(x=tau, color = 'orange', label = r'$\\tau \\approx $' + str(tau)[:5])\n",
    "\n",
    "#fig, ax = plt.subplots()\n",
    "plt.fill_betweenx(pointprocess ,start, end, color = 'orange' ,alpha=0.15)\n",
    "plt.xlabel('t')\n",
    "plt.legend()\n",
    "plt.grid()\n",
    "plt.show()"
   ]
  },
  {
   "cell_type": "markdown",
   "id": "37b4d78f",
   "metadata": {},
   "source": [
    "### Comments : \n",
    "\n",
    "We can see that the Bayesian Method allow us to have an interval in which $\\tau$ is. \n",
    "\n",
    "However, on this precise instance, we notice that the interval is rather big, because $\\lambda_0$ is rather small compared to $T$, so we are not able to have a very precise approximation of $\\tau$ in this case. \n",
    "\n",
    "For bigger values of $\\lambda_0$, the interval would get smaller and would allow us to have a more refined approximation of $\\tau$."
   ]
  }
 ],
 "metadata": {
  "kernelspec": {
   "display_name": "Python 3 (ipykernel)",
   "language": "python",
   "name": "python3"
  },
  "language_info": {
   "codemirror_mode": {
    "name": "ipython",
    "version": 3
   },
   "file_extension": ".py",
   "mimetype": "text/x-python",
   "name": "python",
   "nbconvert_exporter": "python",
   "pygments_lexer": "ipython3",
   "version": "3.10.5"
  }
 },
 "nbformat": 4,
 "nbformat_minor": 5
}
